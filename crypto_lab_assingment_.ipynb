{
  "nbformat": 4,
  "nbformat_minor": 0,
  "metadata": {
    "colab": {
      "provenance": [],
      "toc_visible": true,
      "authorship_tag": "ABX9TyMkscEhygV8eUpmi04DcMxE",
      "include_colab_link": true
    },
    "kernelspec": {
      "name": "python3",
      "display_name": "Python 3"
    },
    "language_info": {
      "name": "python"
    }
  },
  "cells": [
    {
      "cell_type": "markdown",
      "metadata": {
        "id": "view-in-github",
        "colab_type": "text"
      },
      "source": [
        "<a href=\"https://colab.research.google.com/github/Mashiat12/cryptography/blob/main/crypto_lab_assingment_.ipynb\" target=\"_parent\"><img src=\"https://colab.research.google.com/assets/colab-badge.svg\" alt=\"Open In Colab\"/></a>"
      ]
    },
    {
      "cell_type": "markdown",
      "source": [
        "**Ceaser/Additive Cipher**"
      ],
      "metadata": {
        "id": "qruQBKYHeBzS"
      }
    },
    {
      "cell_type": "code",
      "execution_count": null,
      "metadata": {
        "id": "JAXVW2xbdXla"
      },
      "outputs": [],
      "source": [
        "def encrypt(plaintext,key):\n",
        "    plaintext = plaintext.upper()\n",
        "    ciphertext = \"\"\n",
        "    for i in range(len(plaintext)):\n",
        "        char = plaintext[i]\n",
        "        if char == ' ':\n",
        "            shifted_char = char\n",
        "        else:\n",
        "            shifted_char = chr((ord(char) - 65 + key) % 26)\n",
        "            shifted_char = chr(ord(shifted_char) + 65)\n",
        "        ciphertext = ciphertext + shifted_char\n",
        "    return ciphertext"
      ]
    },
    {
      "cell_type": "code",
      "source": [
        "def decrypt(ciphertext,key):\n",
        "    ciphertext = ciphertext.lower()\n",
        "    decrypted_text = \"\"\n",
        "    for i in range(len(ciphertext)):\n",
        "        char = ciphertext[i]\n",
        "        if char == ' ':\n",
        "            shifted_char = char\n",
        "        else:\n",
        "            shifted_char = chr((ord(char) - 97 - key) % 26)\n",
        "            shifted_char = chr(ord(shifted_char) + 97)\n",
        "        decrypted_text = decrypted_text + shifted_char\n",
        "    return decrypted_text"
      ],
      "metadata": {
        "id": "LaDeowEbdn1y"
      },
      "execution_count": null,
      "outputs": []
    },
    {
      "cell_type": "code",
      "source": [
        "plaintext = input(\"Enter the plaintext: \")\n",
        "print(\"Entered plaintext = \" + plaintext)\n",
        "key = int(input(\"Enter the key: \"))\n",
        "print(\"Entered key = \" + str(key))\n",
        "ciphertext = encrypt(plaintext, key)\n",
        "print(\"Ciphertext = \" + ciphertext)\n",
        "decrypted_text = decrypt(ciphertext, key)\n",
        "print(\"Decrypted text = \" + decrypted_text)"
      ],
      "metadata": {
        "colab": {
          "base_uri": "https://localhost:8080/"
        },
        "id": "mLSfiLMedtY7",
        "outputId": "48fd76a4-658c-4e6a-9f29-0738065865db"
      },
      "execution_count": null,
      "outputs": [
        {
          "output_type": "stream",
          "name": "stdout",
          "text": [
            "Enter the plaintext: mashiat tabassum khan\n",
            "Entered plaintext = mashiat tabassum khan\n",
            "Enter the key: 3\n",
            "Entered key = 3\n",
            "Ciphertext = PDVKLDW WDEDVVXP NKDQ\n",
            "Decrypted text = mashiat tabassum khan\n"
          ]
        }
      ]
    },
    {
      "cell_type": "markdown",
      "source": [
        "**Multiplicative Cipher**"
      ],
      "metadata": {
        "id": "RumxYXDne-wl"
      }
    },
    {
      "cell_type": "code",
      "source": [
        "plaintext = input(\"Enter the plaintext: \")\n",
        "key = int(input(\"Enter the key: \"))\n",
        "plaintext = plaintext.upper()\n",
        "ciphertext = \"\"\n",
        "for i in range(len(plaintext)):\n",
        "    ch = plaintext[i]\n",
        "    if ch == \" \":\n",
        "        substituted_ch = ch\n",
        "    else:\n",
        "        substituted_ch = chr(((ord(ch) - 65) * key) % 26)\n",
        "        substituted_ch = chr(ord(substituted_ch) + 65)\n",
        "    ciphertext = ciphertext + substituted_ch\n",
        "print(\"Encoded text: \", ciphertext)\n",
        "r1 = 26\n",
        "r2 = key\n",
        "t1 = 0\n",
        "t2 = 1\n",
        "while r2 > 0:\n",
        "    q = r1 // r2\n",
        "    r = r1 - q * r2\n",
        "    r1 = r2\n",
        "    r2 = r\n",
        "    t = t1 - q * t2\n",
        "    t1 = t2\n",
        "    t2 = t\n",
        "if r1 == 1:\n",
        "    ciphertext = ciphertext.lower()\n",
        "    new_plaintext = \"\"\n",
        "    for i in range(len(ciphertext)):\n",
        "        ch = ciphertext[i]\n",
        "        if ch == \" \":\n",
        "            substituted_ch = ch\n",
        "        else:\n",
        "            substituted_ch = chr(((ord(ch) - 97) * t1) % 26)\n",
        "            substituted_ch = chr(ord(substituted_ch) + 97)\n",
        "        new_plaintext = new_plaintext + substituted_ch\n",
        "    print(\"Decoded text: \", new_plaintext)\n",
        "else:\n",
        "    print(\"Multiplicative inverse of the key doesn't exist\")"
      ],
      "metadata": {
        "colab": {
          "base_uri": "https://localhost:8080/"
        },
        "id": "OBeIWG8vd-3_",
        "outputId": "d2ac83a7-a6c2-4337-c582-7345059a7ab1"
      },
      "execution_count": null,
      "outputs": [
        {
          "output_type": "stream",
          "name": "stdout",
          "text": [
            "Enter the plaintext: mashiat tabassum khan\n",
            "Enter the key: 5\n",
            "Encoded text:  IAMJOAR RAFAMMWI YJAN\n",
            "Decoded text:  mashiat tabassum khan\n"
          ]
        }
      ]
    },
    {
      "cell_type": "markdown",
      "source": [
        "**Affine cipher**"
      ],
      "metadata": {
        "id": "3QXhGb0XgZYO"
      }
    },
    {
      "cell_type": "code",
      "source": [
        "def encryption(plaintext, key1, key2):\n",
        "    ciphertext = \"\"\n",
        "    # This for loop is for the traversing the text.\n",
        "    for i in range(len(plaintext)):\n",
        "        char = plaintext[i]\n",
        "        # This condition is for keeping the \"space\" same on the cipher text.\n",
        "        if char == \" \":\n",
        "            ciphertext = ciphertext + char\n",
        "        # Ascii value of upper case letters start from 65.\n",
        "        elif char.isupper():\n",
        "            ciphertext = ciphertext + chr(\n",
        "                ((((ord(char) - 65) * key1) + key2) % 26) + 65\n",
        "            )\n",
        "        # Ascii value of lower case letters start from 97.\n",
        "        else:\n",
        "            ciphertext = ciphertext + chr(\n",
        "                ((((ord(char) - 97) * key1) + key2) % 26) + 97\n",
        "            )\n",
        "    return ciphertext"
      ],
      "metadata": {
        "id": "30bWAyujfIui"
      },
      "execution_count": null,
      "outputs": []
    },
    {
      "cell_type": "code",
      "source": [
        "def decryption(ciphertext, key1, key2):\n",
        "    plaintext = \"\"\n",
        "    # Finding the multiplicative inverse of key1\n",
        "    mi = pow(key1, -1, 26)\n",
        "    # This for loop is for the traverse the text.\n",
        "    for i in range(len(ciphertext)):\n",
        "        char = ciphertext[i]\n",
        "        # This condition is for keeping the \"space\" same on the plaintext.\n",
        "        if char == \" \":\n",
        "            plaintext = plaintext + char\n",
        "        # Ascii value of upper case letters start from 65.\n",
        "        elif char.isupper():\n",
        "            plaintext = plaintext + chr(((((ord(char) - 65) - key2) * mi) % 26) + 65)\n",
        "        # Ascii value of lower case letters start from 97.\n",
        "        else:\n",
        "            plaintext = plaintext + chr(((((ord(char) - 97) - key2) * mi) % 26) + 97)\n",
        "    return plaintext"
      ],
      "metadata": {
        "id": "0p7RS1yofVZV"
      },
      "execution_count": null,
      "outputs": []
    },
    {
      "cell_type": "code",
      "source": [
        "plaintext = input(\"Enter the plaintext: \")\n",
        "key1 = int(input(\"Enter the first key: \"))\n",
        "key2 = int(input(\"Enter the second key : \"))\n",
        "\n",
        "ciphertext = encryption(plaintext, key1, key2)\n",
        "decrypted_text = decryption(ciphertext, key1, key2)\n",
        "\n",
        "print(\"Entered plaintext: \", plaintext)\n",
        "print(\"Entered keys are: \\nkey1 = \", key1, \"\\nkey2 = \", key2)\n",
        "print(\"Ciphertext : \", ciphertext)\n",
        "print(\"Decrypted text : \", decrypted_text)"
      ],
      "metadata": {
        "colab": {
          "base_uri": "https://localhost:8080/"
        },
        "id": "42uuj0MwgFuG",
        "outputId": "f2989e08-7d83-4798-e614-64a6ab126fc8"
      },
      "execution_count": null,
      "outputs": [
        {
          "output_type": "stream",
          "name": "stdout",
          "text": [
            "Enter the plaintext: mashiat tabassum khan\n",
            "Enter the first key: 7\n",
            "Enter the second key : 2\n",
            "Entered plaintext:  mashiat tabassum khan\n",
            "Entered keys are: \n",
            "key1 =  7 \n",
            "key2 =  2\n",
            "Ciphertext :  icyzgcf fcjcyymi uzcp\n",
            "Decrypted text :  mashiat tabassum khan\n"
          ]
        }
      ]
    },
    {
      "cell_type": "markdown",
      "source": [
        "**Playfair Cipher**"
      ],
      "metadata": {
        "id": "_G5MlsWYlmXy"
      }
    },
    {
      "cell_type": "code",
      "source": [
        "import numpy as np\n",
        "key_matrix = np.array(\n",
        "    [\n",
        "        ['L', 'G', 'D', 'B', 'A'],\n",
        "        ['Q', 'M', 'H', 'E', 'C'],\n",
        "        ['U', 'R', 'N', 'I', 'F'],\n",
        "        ['X', 'V', 'S', 'O', 'K'],\n",
        "        ['Z', 'Y', 'W', 'T', 'P']\n",
        "    ]\n",
        ")\n",
        "transpose_key_matrix = np.transpose(key_matrix)\n",
        "plaintext = input(\"Enter the plaintext: \")\n",
        "print(\"Given Plaintext: \", plaintext)\n",
        "#Removing all the whitespaces from the plaintext\n",
        "text = plaintext.replace(\" \",\"\")\n",
        "text_len = len(text)\n",
        "text = text.upper()\n",
        "#Replace all \"J\" in the plaintext to \"I\"\n",
        "text = text.replace(\"J\", \"I\")"
      ],
      "metadata": {
        "colab": {
          "base_uri": "https://localhost:8080/"
        },
        "id": "bTbmQlPigfVh",
        "outputId": "c8c91dcf-f018-41fe-ae58-684deb73b1f5"
      },
      "execution_count": null,
      "outputs": [
        {
          "output_type": "stream",
          "name": "stdout",
          "text": [
            "Enter the plaintext: play with balloon\n",
            "Given Plaintext:  play with balloon\n"
          ]
        }
      ]
    },
    {
      "cell_type": "code",
      "source": [
        "plaintextpair = []\n",
        "i = 0\n",
        "while i < text_len:\n",
        "    char1 = text[i]\n",
        "    char2 = \"\"\n",
        "    #If the letter is the last character of the plaintext add a vogus character \"X\"\n",
        "    if (i+1) == len(text):\n",
        "        char2 = \"X\"\n",
        "    #Else add the next character\n",
        "    else:\n",
        "        char2 = text[i+1]\n",
        "    #If the two characters are different insert them in the pair\n",
        "    if char1 != char2:\n",
        "        plaintextpair.append(char1+char2)\n",
        "        i = i+2\n",
        "    #else add \"X\" as the second character\n",
        "    else:\n",
        "        plaintextpair.append(char1+\"X\")\n",
        "        i = i + 1\n",
        "print(\"Pairs of plaintext :\", plaintextpair)"
      ],
      "metadata": {
        "colab": {
          "base_uri": "https://localhost:8080/"
        },
        "id": "rkR1H_EPg2qL",
        "outputId": "06da950a-961a-4296-f7dd-3eedecfdbaa2"
      },
      "execution_count": null,
      "outputs": [
        {
          "output_type": "stream",
          "name": "stdout",
          "text": [
            "Pairs of plaintext : ['PL', 'AY', 'WI', 'TH', 'BA', 'LX', 'LO', 'ON']\n"
          ]
        }
      ]
    },
    {
      "cell_type": "code",
      "source": [
        "#Rule 1: If the two characters are in the same row replace them with their right charater\n",
        "#Rule 2: If the two characters are in the same column replace them with their below character (for this we will use transpose matrix)\n",
        "#Rule 3: If the two letters are not in the same row or column,replace them with letter\n",
        "ciphertext = \"\"\n",
        "ciphertextpair = []\n",
        "for pair in plaintextpair:\n",
        "    apply_rule = True\n",
        "    if apply_rule :\n",
        "        for row in range(5):\n",
        "            if pair[0] in key_matrix[row] and pair[1] in key_matrix[row]:\n",
        "                for i in range(5):\n",
        "                    if key_matrix[row][i]==pair[0]:\n",
        "                        char1 = key_matrix[row][(i+1)%5]\n",
        "                    elif key_matrix[row][i]==pair[1]:\n",
        "                        char2 = key_matrix[row][(i+1)%5]\n",
        "                apply_rule = False\n",
        "                ciphertextpair.append(char1+char2)\n",
        "                ciphertext = ciphertext + char1 + char2\n",
        "    if apply_rule :\n",
        "        for column in range(5):\n",
        "            if pair[0] in transpose_key_matrix[column] and pair[1] in transpose_key_matrix[column]:\n",
        "                for i in range(5):\n",
        "                    if transpose_key_matrix[column][i]==pair[0]:\n",
        "                        char1 = transpose_key_matrix[column][(i+1)%5]\n",
        "                    elif transpose_key_matrix[column][i]==pair[1]:\n",
        "                        char2 = transpose_key_matrix[column][(i+1)%5]\n",
        "                apply_rule = False\n",
        "                ciphertextpair.append(char1+char2)\n",
        "                ciphertext = ciphertext + char1 + char2\n",
        "    if apply_rule :\n",
        "        for row in range (5):\n",
        "            for column in range (5):\n",
        "                if key_matrix[row][column] == pair[0]:\n",
        "                    x0 = row\n",
        "                    y0 = column\n",
        "                elif key_matrix[row][column] == pair[1]:\n",
        "                    x1 = row\n",
        "                    y1 = column\n",
        "        char1 = key_matrix[x0][y1]\n",
        "        char2 = key_matrix[x1][y0]\n",
        "        ciphertextpair.append(char1+char2)\n",
        "        ciphertext = ciphertext + char1 + char2\n",
        "print(\"Ciphertext: \", ciphertext)"
      ],
      "metadata": {
        "colab": {
          "base_uri": "https://localhost:8080/"
        },
        "id": "eoR0TNn9iGf2",
        "outputId": "a10814af-25ec-4f75-c1ff-5d81a03021b8"
      },
      "execution_count": null,
      "outputs": [
        {
          "output_type": "stream",
          "name": "stdout",
          "text": [
            "Ciphertext:  ZAGPTNWEALQZBXSI\n"
          ]
        }
      ]
    },
    {
      "cell_type": "code",
      "source": [
        "#Rule 1: If the two characters are in the same row replace them with their left charater\n",
        "#Rule 2: If the two characters are in the same column replace them with their upper character (for this we will use transpose matrix)\n",
        "#Rule 3: If the two letters are not in the same row or column,replace them with letter\n",
        "decryptedtext = \"\"\n",
        "for pair in ciphertextpair:\n",
        "    apply_rule = True\n",
        "    if apply_rule :\n",
        "        for row in range(5):\n",
        "            if pair[0] in key_matrix[row] and pair[1] in key_matrix[row]:\n",
        "                for i in range(5):\n",
        "                    if key_matrix[row][i]==pair[0]:\n",
        "                        char1 = key_matrix[row][(i-1)%5]\n",
        "                    elif key_matrix[row][i]==pair[1]:\n",
        "                        char2 = key_matrix[row][(i-1)%5]\n",
        "                apply_rule = False\n",
        "                decryptedtext = decryptedtext + char1 + char2\n",
        "\n",
        "    if apply_rule :\n",
        "        for column in range(5):\n",
        "            if pair[0] in transpose_key_matrix[column] and pair[1] in transpose_key_matrix[column]:\n",
        "                for i in range(5):\n",
        "                    if transpose_key_matrix[column][i]==pair[0]:\n",
        "                        char1 = transpose_key_matrix[column][(i-1)%5]\n",
        "                    elif transpose_key_matrix[column][i]==pair[1]:\n",
        "                        char2 = transpose_key_matrix[column][(i-1)%5]\n",
        "                apply_rule = False\n",
        "                decryptedtext = decryptedtext + char1 + char2\n",
        "    if apply_rule :\n",
        "        for row in range (5):\n",
        "            for column in range (5):\n",
        "                if key_matrix[row][column] == pair[0]:\n",
        "                    x0 = row\n",
        "                    y0 = column\n",
        "                elif key_matrix[row][column] == pair[1]:\n",
        "                    x1 = row\n",
        "                    y1 = column\n",
        "        char1 = key_matrix[x0][y1]\n",
        "        char2 = key_matrix[x1][y0]\n",
        "        decryptedtext = decryptedtext + char1 + char2\n",
        "print(\"Decrypted text: \", decryptedtext.lower())"
      ],
      "metadata": {
        "colab": {
          "base_uri": "https://localhost:8080/"
        },
        "id": "4ocKUiEHioTj",
        "outputId": "a8c1d5ff-14a8-4223-ac57-dd5920f9b442"
      },
      "execution_count": null,
      "outputs": [
        {
          "output_type": "stream",
          "name": "stdout",
          "text": [
            "Decrypted text:  playwithbalxloon\n"
          ]
        }
      ]
    },
    {
      "cell_type": "markdown",
      "source": [
        "**Vigenere Cipher**"
      ],
      "metadata": {
        "id": "0WBCsbudme9T"
      }
    },
    {
      "cell_type": "code",
      "source": [
        "def key_generation(key):\n",
        "    key_len = len(key)\n",
        "    key_stream = [0]*key_len\n",
        "    key = key.lower()\n",
        "    for i in range(key_len):\n",
        "        order = ord(key[i]) - 97\n",
        "        key_stream[i] = order\n",
        "    return key_stream"
      ],
      "metadata": {
        "id": "DxkYWc_ommCy"
      },
      "execution_count": null,
      "outputs": []
    },
    {
      "cell_type": "code",
      "source": [
        "def encryption(plaintext, key_stream):\n",
        "    text = plaintext.lower()\n",
        "    key_size = len(key_stream)\n",
        "    ciphertext = \"\"\n",
        "    j = 0\n",
        "    for char in text:\n",
        "        order = ord(char)\n",
        "        if order>=97 and order<=122:\n",
        "            #Storing the key for current plaintext character\n",
        "            key = key_stream[j]\n",
        "            if j==(key_size-1):\n",
        "                j = 0\n",
        "            else:\n",
        "                j = j+1\n",
        "            #Calculating the ciphertext charater\n",
        "            order = order - 97\n",
        "            order = (order + key) % 26\n",
        "            order = order + 97\n",
        "            new_char = chr(order)\n",
        "            ciphertext = ciphertext + new_char\n",
        "        else:\n",
        "            ciphertext = ciphertext + char\n",
        "    return ciphertext"
      ],
      "metadata": {
        "id": "B-Nlc_choiTy"
      },
      "execution_count": null,
      "outputs": []
    },
    {
      "cell_type": "code",
      "source": [
        "def decryption(ciphertext, key_stream):\n",
        "    text = ciphertext.upper()\n",
        "    key_size = len(key_stream)\n",
        "    plaintext = \"\"\n",
        "    j = 0\n",
        "    for char in text:\n",
        "        order = ord(char)\n",
        "        if order>=65 and order<=90:\n",
        "            #Storing the key for current ciphertext character\n",
        "            key = key_stream[j]\n",
        "            if j==(key_size-1):\n",
        "                j = 0\n",
        "            else:\n",
        "                j = j+1\n",
        "            #Calculating the plaintext charater\n",
        "            order = order - 65\n",
        "            order = (order - key) % 26\n",
        "            order = order + 65\n",
        "            new_char = chr(order)\n",
        "            plaintext = plaintext + new_char\n",
        "        else:\n",
        "            plaintext = plaintext + char\n",
        "    return plaintext"
      ],
      "metadata": {
        "id": "IoGbvJX_oo_W"
      },
      "execution_count": null,
      "outputs": []
    },
    {
      "cell_type": "code",
      "source": [
        "plaintext = input(\"Enter the plaintext: \")\n",
        "key = input(\"Enter the key: \")\n",
        "\n",
        "key_stream = key_generation(key)\n",
        "ciphertext = encryption(plaintext, key_stream)\n",
        "decrypted_text = decryption(ciphertext, key_stream)\n",
        "\n",
        "print(\"Given Plaintext: \", plaintext)\n",
        "print(\"Entered key: \", key)\n",
        "print(\"Key Stream : \", key_stream)\n",
        "print(\"Ciphertext: \", ciphertext)\n",
        "print(\"Decrypted text: \", decrypted_text)"
      ],
      "metadata": {
        "colab": {
          "base_uri": "https://localhost:8080/"
        },
        "id": "tfCtHq6Fo3uj",
        "outputId": "90ee1266-869b-4dc1-bd94-d3c53217bd73"
      },
      "execution_count": null,
      "outputs": [
        {
          "output_type": "stream",
          "name": "stdout",
          "text": [
            "Enter the plaintext: she is listening\n",
            "Enter the key: pascal\n",
            "Given Plaintext:  she is listening\n",
            "Entered key:  pascal\n",
            "Key Stream :  [15, 0, 18, 2, 0, 11]\n",
            "Ciphertext:  hhw ks wxslgntcg\n",
            "Decrypted text:  SHE IS LISTENING\n"
          ]
        }
      ]
    },
    {
      "cell_type": "markdown",
      "source": [
        "**DES**"
      ],
      "metadata": {
        "id": "6rYSR3Mppv86"
      }
    },
    {
      "cell_type": "code",
      "source": [
        "!pip3 install pycryptodome\n",
        "key = 'hello123'\n",
        "\n",
        "def pad(text):\n",
        "    while len(text) % 8 != 0:\n",
        "        text = text + ' '\n",
        "    return text\n",
        "\n",
        "des = DES.new(key.encode('utf-8'),DES.MODE_ECB)\n",
        "\n",
        "text = 'mashiat tabassum khan'\n",
        "\n",
        "padded_text = pad(text)\n",
        "encrypted_text = des.encrypt(padded_text.encode('utf-8'))\n",
        "\n",
        "print(\"The Encrypted text is :\",encrypted_text)\n",
        "print(\"The ecnrypted text in character formate :\",base64.b64encode(encrypted_text))\n",
        "decrypted_text = des.decrypt(encrypted_text)\n",
        "print(\"The Decrypted text is :\",decrypted_text.decode())"
      ],
      "metadata": {
        "colab": {
          "base_uri": "https://localhost:8080/"
        },
        "id": "pH22Aup2qDAb",
        "outputId": "3c8ac542-3d12-41c4-dc06-d5e007ace07a"
      },
      "execution_count": null,
      "outputs": [
        {
          "output_type": "stream",
          "name": "stdout",
          "text": [
            "Requirement already satisfied: pycryptodome in /usr/local/lib/python3.10/dist-packages (3.21.0)\n",
            "The Encrypted text is : b'\\x80@\\xb8\\xd1q[\\x8b\\x0b\\xe4\\xeeY\\x05\\x00\\xb0\\x96\\xa5\\x01\\x86\\x8e\\x94\\x91\\xd5\\x9f;'\n",
            "The ecnrypted text in character formate : b'gEC40XFbiwvk7lkFALCWpQGGjpSR1Z87'\n",
            "The Decrypted text is : mashiat tabassum khan   \n"
          ]
        }
      ]
    },
    {
      "cell_type": "markdown",
      "source": [
        "**AES**"
      ],
      "metadata": {
        "id": "UzWpznZtgP6J"
      }
    },
    {
      "cell_type": "code",
      "source": [
        "!pip3 install pycryptodome\n",
        "import base64\n",
        "from Crypto.Cipher import AES\n",
        "from Crypto.Random import get_random_bytes\n",
        "\n",
        "plaintext = b'Mashiat tabassum khan'\n",
        "key = get_random_bytes(16)\n",
        "\n",
        "cipher = AES.new(key, AES.MODE_EAX)\n",
        "ciphertext, tag = cipher.encrypt_and_digest(plaintext)\n",
        "print(\"Ciphertext:\", ciphertext)\n",
        "print(\"Ciphertext :\",base64.b64encode(ciphertext))\n",
        "print(\"Tag:\", tag)\n",
        "\n",
        "decrypt_cipher = AES.new(key, AES.MODE_EAX, nonce=cipher.nonce)\n",
        "decrypted_plaintext = decrypt_cipher.decrypt_and_verify(ciphertext, tag)\n",
        "print(\"Decrypted plaintext:\", decrypted_plaintext.decode())"
      ],
      "metadata": {
        "colab": {
          "base_uri": "https://localhost:8080/",
          "height": 0
        },
        "id": "bPLTRdjlgTLQ",
        "outputId": "93047189-90b7-4086-b735-b62a79e234bb"
      },
      "execution_count": 3,
      "outputs": [
        {
          "output_type": "stream",
          "name": "stdout",
          "text": [
            "Requirement already satisfied: pycryptodome in /usr/local/lib/python3.10/dist-packages (3.21.0)\n",
            "Ciphertext: b'\\xa1\\xfb\\xaeC\\xdbAixg\\x15\\xf2\\x82\\xc8@]/[\\xccn~\"'\n",
            "Ciphertext : b'ofuuQ9tBaXhnFfKCyEBdL1vMbn4i'\n",
            "Tag: b\"\\xa8_\\x97\\xd1\\xfeNV\\xeb\\xc1\\x1c\\xa8\\xc0V\\xbf\\xbb'\"\n",
            "Decrypted plaintext: Mashiat tabassum khan\n"
          ]
        }
      ]
    },
    {
      "cell_type": "markdown",
      "source": [
        "**RSA**"
      ],
      "metadata": {
        "id": "2JR-y0n9idCS"
      }
    },
    {
      "cell_type": "code",
      "source": [
        "from Crypto.PublicKey import RSA\n",
        "from Crypto.Cipher import PKCS1_OAEP"
      ],
      "metadata": {
        "id": "BH2hYgwOigEu"
      },
      "execution_count": 5,
      "outputs": []
    },
    {
      "cell_type": "code",
      "source": [
        "def generate_key_pair():\n",
        "    key = RSA.generate(2048)\n",
        "    public_key = key.publickey().export_key()\n",
        "    private_key = key.export_key()\n",
        "    return public_key, private_key"
      ],
      "metadata": {
        "id": "9pJoKXnTiyWq"
      },
      "execution_count": 6,
      "outputs": []
    },
    {
      "cell_type": "code",
      "source": [
        "def encrypt(message, public_key):\n",
        "    cipher = PKCS1_OAEP.new(RSA.import_key(public_key))\n",
        "    encrypted_message = cipher.encrypt(message)\n",
        "    return encrypted_message"
      ],
      "metadata": {
        "id": "XA2WZrXVivoI"
      },
      "execution_count": 7,
      "outputs": []
    },
    {
      "cell_type": "code",
      "source": [
        "def decrypt(encrypted_message, private_key):\n",
        "    cipher = PKCS1_OAEP.new(RSA.import_key(private_key))\n",
        "    decrypted_message = cipher.decrypt(encrypted_message)\n",
        "    return decrypted_message"
      ],
      "metadata": {
        "id": "0z92hO_Ai61J"
      },
      "execution_count": 8,
      "outputs": []
    },
    {
      "cell_type": "code",
      "source": [
        "plaintext = b\"This is a secret message from Mashiat\"\n",
        "print(\"Plaintext:\", plaintext)\n",
        "\n",
        "public_key, private_key = generate_key_pair()\n",
        "\n",
        "encrypted_message = encrypt(plaintext, public_key)\n",
        "print(\"Encrypted message:\", encrypted_message.hex())\n",
        "\n",
        "decrypted_message = decrypt(encrypted_message, private_key)\n",
        "print(\"Decrypted message:\", decrypted_message.decode())"
      ],
      "metadata": {
        "colab": {
          "base_uri": "https://localhost:8080/",
          "height": 0
        },
        "id": "x5eWYx8ri_Zr",
        "outputId": "440a9d3d-e3f0-4ec6-d39d-575cc8184628"
      },
      "execution_count": 11,
      "outputs": [
        {
          "output_type": "stream",
          "name": "stdout",
          "text": [
            "Plaintext: b'This is a secret message from Mashiat'\n",
            "Encrypted message: 4ac6ee8944c11f83904ceea36cf858968977c8032ed5706736196bb29a55f75d43af6174daae1f0c435becc69f74ffecd8cf11694fbc98e490d895ea2ae37392022ce7bc949dee3b403e090b6ab7eed9e2eb3b6ba6bac3770f1bd1790425da70dd052c63d72b4cc2d3fb821001ae1140e00c23978c1ec556186809b5468fcb8730f607765f2fce2c728a2f10774235f9e7fd6e7b4bff23281d6350f0bbcf365a8b2e95eca5ac55a1eef85e90d8221c497f9a1294202654f54ec0928ccbe9c1efe5b871cd20b1fcdc909d2310fc4643d0a562d90b97fb70bbeee84f0dad7dc300dd09189fb7ae13d7e3fc4426ce78208a43b04154356fecffe9e28bb40f51a2df\n",
            "Decrypted message: This is a secret message from Mashiat\n"
          ]
        }
      ]
    },
    {
      "cell_type": "markdown",
      "source": [
        "**ElGamal**"
      ],
      "metadata": {
        "id": "zxpPwur3j6SO"
      }
    },
    {
      "cell_type": "code",
      "source": [
        "from sympy import primitive_root,randprime\n",
        "import random"
      ],
      "metadata": {
        "id": "9Mis2oBwkPy9"
      },
      "execution_count": 12,
      "outputs": []
    },
    {
      "cell_type": "code",
      "source": [
        "prime = randprime(124,10**3)\n",
        "root = primitive_root(prime)"
      ],
      "metadata": {
        "id": "c2xVnhSaka00"
      },
      "execution_count": 13,
      "outputs": []
    },
    {
      "cell_type": "code",
      "source": [
        "d=random.randint(1,(prime-2)) #private\n",
        "e=(pow(root,d)%prime)  #public\n",
        "r=random.randint(1,10) #random_integer\n",
        "plaintext = \"This is a secret message from Mashiat\""
      ],
      "metadata": {
        "id": "OF8Y2IhUko4c"
      },
      "execution_count": 15,
      "outputs": []
    },
    {
      "cell_type": "code",
      "source": [
        "# Encryption Algorithm\n",
        "ciphertext=[]\n",
        "for char in plaintext:\n",
        "  ciphertext1=(pow(root,r)%prime)\n",
        "  ciphertext2=((ord(char)*pow(e,r))%prime)\n",
        "  ciphertext.append((ciphertext1,ciphertext2))\n",
        "print(ciphertext)"
      ],
      "metadata": {
        "colab": {
          "base_uri": "https://localhost:8080/",
          "height": 0
        },
        "id": "bKF7KnrplDVs",
        "outputId": "f895afc3-3f29-4717-9cbf-6b0c1861e01a"
      },
      "execution_count": 16,
      "outputs": [
        {
          "output_type": "stream",
          "name": "stdout",
          "text": [
            "[(2, 478), (2, 292), (2, 204), (2, 111), (2, 332), (2, 204), (2, 111), (2, 332), (2, 121), (2, 332), (2, 111), (2, 556), (2, 732), (2, 199), (2, 556), (2, 23), (2, 332), (2, 639), (2, 556), (2, 111), (2, 111), (2, 121), (2, 380), (2, 556), (2, 332), (2, 468), (2, 199), (2, 463), (2, 639), (2, 332), (2, 307), (2, 121), (2, 111), (2, 292), (2, 204), (2, 121), (2, 23)]\n"
          ]
        }
      ]
    },
    {
      "cell_type": "code",
      "source": [
        "#Decryption Algorithm\n",
        "plaintext=\"\"\n",
        "for pair in ciphertext:\n",
        "  ciphertext1,ciphertext2=pair\n",
        "  value=pow(ciphertext1,d)\n",
        "  multinv = pow(value,-1,prime)\n",
        "  decrypt_char = (ciphertext2*multinv) % prime\n",
        "  plaintext += chr(decrypt_char)\n",
        "print(plaintext)"
      ],
      "metadata": {
        "colab": {
          "base_uri": "https://localhost:8080/",
          "height": 0
        },
        "id": "Imjv6k5ilLb_",
        "outputId": "c0fb2441-d0b7-4420-c6d5-6b611e60f14b"
      },
      "execution_count": 17,
      "outputs": [
        {
          "output_type": "stream",
          "name": "stdout",
          "text": [
            "This is a secret message from Mashiat\n"
          ]
        }
      ]
    },
    {
      "cell_type": "markdown",
      "source": [
        "**Digital Signature Standard**"
      ],
      "metadata": {
        "id": "jy34jvmuoK7z"
      }
    },
    {
      "cell_type": "code",
      "source": [
        "q=11\n",
        "p=23\n",
        "d=7\n",
        "r=13\n",
        "hm=9\n",
        "e0=3\n",
        "\n",
        "e1 = pow(e0, (p-1)//q, p)\n",
        "e2 = pow(e1, d, p)\n",
        "print(\"Value of e1 =\",e1,\", e2 =\",e2)\n",
        "\n",
        "s1 = pow(e1, r, p) % q\n",
        "inverse_r = pow(r, -1, q)\n",
        "s2 = ((hm + d*s1)*inverse_r) % q\n",
        "print(\"Value of S1 =\",s1,\", S2 =\",s2)\n",
        "\n",
        "inverse_s2 = pow(s2, -1, q)\n",
        "print(\"Value of inverse s2: \",inverse_s2)\n",
        "v = ((pow(e1, hm*inverse_s2)*pow(e2, s1*inverse_s2))%p)%q\n",
        "print(\"Value of V:\", v)\n",
        "\n",
        "if v==s1:\n",
        "    print(\"Signature Verified\")\n",
        "else:\n",
        "    print(\"Not Verified\")"
      ],
      "metadata": {
        "colab": {
          "base_uri": "https://localhost:8080/",
          "height": 0
        },
        "id": "fBrMQFXVpmVD",
        "outputId": "eb53137a-5940-41fc-e2cc-fa2516dbd7d9"
      },
      "execution_count": 22,
      "outputs": [
        {
          "output_type": "stream",
          "name": "stdout",
          "text": [
            "Value of e1 = 9 , e2 = 4\n",
            "Value of S1 = 1 , S2 = 8\n",
            "Value of inverse s2:  7\n",
            "Value of V: 1\n",
            "Signature Verified\n"
          ]
        }
      ]
    },
    {
      "cell_type": "markdown",
      "source": [
        "**Keyless transposition (rail fence)**"
      ],
      "metadata": {
        "id": "Wg52WV_1reyb"
      }
    },
    {
      "cell_type": "code",
      "source": [
        "import numpy as np\n",
        "\n",
        "plaintext = input(\"Enter the plantext: \")\n",
        "plaintext = plaintext.replace(\" \",\"\")\n",
        "plaintext = plaintext.upper()\n",
        "column = int(input(\"Enter the number of columns: \"))\n",
        "\n",
        "if (len(plaintext) % column) != 0:\n",
        "    extra = column - (len(plaintext) % column)\n",
        "    for i in range(extra):\n",
        "        plaintext = plaintext + \"X\"\n",
        "\n",
        "row = len(plaintext)//column\n",
        "table = np.array([[\"Z\"]*column]*row)\n",
        "index = 0\n",
        "for i in range(row):\n",
        "    for j in range(column):\n",
        "        table[i][j] = plaintext[index]\n",
        "        index = index + 1\n",
        "\n",
        "ciphertext = \"\"\n",
        "transpose_table = np.transpose(table)\n",
        "for i in range(column):\n",
        "    for j in range(row):\n",
        "        ciphertext = ciphertext + transpose_table[i][j]\n",
        "\n",
        "print(\"Ciphertext: \", ciphertext)\n",
        "\n",
        "cipher_table = np.array([[\"Z\"]*row]*column)\n",
        "index = 0\n",
        "for i in range(column):\n",
        "    for j in range(row):\n",
        "        cipher_table[i][j] = ciphertext[index]\n",
        "        index = index + 1\n",
        "\n",
        "decrypted_text = \"\"\n",
        "transpose_cipher_table = np.transpose(cipher_table)\n",
        "for i in range (row):\n",
        "    for j in range(column):\n",
        "        decrypted_text = decrypted_text + transpose_cipher_table[i][j]\n",
        "\n",
        "print(\"Decrypted text: \",decrypted_text)"
      ],
      "metadata": {
        "colab": {
          "base_uri": "https://localhost:8080/",
          "height": 0
        },
        "id": "dORWUlfKr1Z3",
        "outputId": "d4dad131-d623-49f6-e8e0-fc0f98f1b27f"
      },
      "execution_count": 25,
      "outputs": [
        {
          "output_type": "stream",
          "name": "stdout",
          "text": [
            "Enter the plantext: this is mashiat tabassum khan\n",
            "Enter the number of columns: 2\n",
            "Ciphertext:  TIIMSITAASMHNHSSAHATBSUKAX\n",
            "Decrypted text:  THISISMASHIATTABASSUMKHANX\n"
          ]
        }
      ]
    },
    {
      "cell_type": "markdown",
      "source": [],
      "metadata": {
        "id": "sJcRHv5vssIM"
      }
    }
  ]
}